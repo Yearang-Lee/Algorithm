{
 "cells": [
  {
   "cell_type": "markdown",
   "metadata": {},
   "source": [
    "## 1. 1부터 n까지 연속한 숫자의 합을 구하는 알고리즘\n",
    "\n",
    "- 입력: n\n",
    "- 출력: 1부터 n까지의 숫자를 더한 값"
   ]
  },
  {
   "cell_type": "markdown",
   "metadata": {},
   "source": [
    "방법 1)"
   ]
  },
  {
   "cell_type": "code",
   "execution_count": 2,
   "metadata": {
    "ExecuteTime": {
     "end_time": "2021-01-26T12:05:31.817835Z",
     "start_time": "2021-01-26T12:05:31.808921Z"
    }
   },
   "outputs": [
    {
     "name": "stdout",
     "output_type": "stream",
     "text": [
      "55\n",
      "5050\n"
     ]
    }
   ],
   "source": [
    "def sum_n(n):\n",
    "    result = 0\n",
    "    for i in range(n+1):\n",
    "        result+=i\n",
    "    return result\n",
    "\n",
    "print(sum_n(10))\n",
    "print(sum_n(100))"
   ]
  },
  {
   "cell_type": "markdown",
   "metadata": {},
   "source": [
    "방법 2)"
   ]
  },
  {
   "cell_type": "code",
   "execution_count": 4,
   "metadata": {
    "ExecuteTime": {
     "end_time": "2021-01-26T12:06:24.700253Z",
     "start_time": "2021-01-26T12:06:24.690404Z"
    }
   },
   "outputs": [
    {
     "name": "stdout",
     "output_type": "stream",
     "text": [
      "55\n",
      "5050\n"
     ]
    }
   ],
   "source": [
    "def sum_n(n):\n",
    "    result = (n*(n+1))/2\n",
    "    return int(result)\n",
    "\n",
    "print(sum_n(10))\n",
    "print(sum_n(100))"
   ]
  },
  {
   "cell_type": "markdown",
   "metadata": {},
   "source": [
    "## 2. 최댓값을 구하는 알고리즘\n",
    "- 입력: 숫자가 n개 들어 있는 리스트\n",
    "- 출력: 숫자 n개 중 최댓값"
   ]
  },
  {
   "cell_type": "code",
   "execution_count": 10,
   "metadata": {
    "ExecuteTime": {
     "end_time": "2021-01-26T12:10:54.253999Z",
     "start_time": "2021-01-26T12:10:54.247414Z"
    }
   },
   "outputs": [
    {
     "name": "stdout",
     "output_type": "stream",
     "text": [
      "92\n"
     ]
    }
   ],
   "source": [
    "def find_max(a):\n",
    "    max = a[0]\n",
    "    for i in a:\n",
    "        if i > max:\n",
    "            max = i\n",
    "        else:\n",
    "            continue\n",
    "    return max\n",
    "\n",
    "\n",
    "v = [17, 92, 18, 33, 58, 7, 33, 42]\n",
    "print(find_max(v))"
   ]
  },
  {
   "cell_type": "markdown",
   "metadata": {},
   "source": [
    "- 입력: 숫자가 n개 들어 있는 리스트\n",
    "- 출력: 숫자 n개 중에서 최댓값이 있는 위치(0부터 n-1까지의 값)"
   ]
  },
  {
   "cell_type": "code",
   "execution_count": 9,
   "metadata": {
    "ExecuteTime": {
     "end_time": "2021-01-26T12:10:36.699320Z",
     "start_time": "2021-01-26T12:10:36.691241Z"
    }
   },
   "outputs": [
    {
     "name": "stdout",
     "output_type": "stream",
     "text": [
      "1\n"
     ]
    }
   ],
   "source": [
    "def find_max_idx(a):\n",
    "    max = a[0]\n",
    "    for i in range(len(a)):\n",
    "        if a[i] > max:\n",
    "            max = a[i]\n",
    "            max_idx = i\n",
    "        else:\n",
    "            continue\n",
    "    return max_idx\n",
    "\n",
    "v = [17, 92, 18, 33, 58, 7, 33, 42]\n",
    "print(find_max_idx(v))"
   ]
  },
  {
   "cell_type": "markdown",
   "metadata": {},
   "source": [
    "## 3. 동명이인을 찾는 알고리즘\n",
    "- 입력: 이름이 n개 들어 있는 리스트\n",
    "- 출력: 이름 n개 중 반복되는 이름의 집합"
   ]
  },
  {
   "cell_type": "code",
   "execution_count": 8,
   "metadata": {
    "ExecuteTime": {
     "end_time": "2021-01-26T12:10:16.714616Z",
     "start_time": "2021-01-26T12:10:16.704257Z"
    }
   },
   "outputs": [
    {
     "name": "stdout",
     "output_type": "stream",
     "text": [
      "{'Tom'}\n",
      "{'Tom', 'Mike'}\n"
     ]
    }
   ],
   "source": [
    "def find_same_name(a):\n",
    "    result = set()  # 빈 집합 생성\n",
    "    for i in range(len(a)):\n",
    "        name = a[i]\n",
    "        for j in range(i+1,len(a)):\n",
    "            if name == a[j]:\n",
    "                result.add(a[j])\n",
    "            else:\n",
    "                continue\n",
    "    return result\n",
    "\n",
    "name = [\"Tom\", \"Jerry\", \"Mike\", \"Tom\"]  # 대소문자 유의: 파이썬은 대소문자를 구분함\n",
    "print(find_same_name(name))\n",
    "\n",
    "\n",
    "name2 = [\"Tom\", \"Jerry\", \"Mike\", \"Tom\", \"Mike\"]\n",
    "print(find_same_name(name2))"
   ]
  }
 ],
 "metadata": {
  "kernelspec": {
   "display_name": "Python 3",
   "language": "python",
   "name": "python3"
  },
  "language_info": {
   "codemirror_mode": {
    "name": "ipython",
    "version": 3
   },
   "file_extension": ".py",
   "mimetype": "text/x-python",
   "name": "python",
   "nbconvert_exporter": "python",
   "pygments_lexer": "ipython3",
   "version": "3.8.5"
  },
  "toc": {
   "base_numbering": 1,
   "nav_menu": {},
   "number_sections": false,
   "sideBar": true,
   "skip_h1_title": false,
   "title_cell": "Table of Contents",
   "title_sidebar": "Contents",
   "toc_cell": false,
   "toc_position": {},
   "toc_section_display": true,
   "toc_window_display": false
  }
 },
 "nbformat": 4,
 "nbformat_minor": 4
}
